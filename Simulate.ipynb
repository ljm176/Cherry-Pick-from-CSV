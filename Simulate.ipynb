{
 "cells": [
  {
   "cell_type": "code",
   "execution_count": 1,
   "metadata": {},
   "outputs": [
    {
     "name": "stderr",
     "output_type": "stream",
     "text": [
      "C:\\Users\\lajamu\\.opentrons\\deck_calibration.json not found. Loading defaults\n",
      "C:\\Users\\lajamu\\.opentrons\\robot_settings.json not found. Loading defaults\n"
     ]
    },
    {
     "name": "stdout",
     "output_type": "stream",
     "text": [
      "Loading json containers...\n",
      "Json container file load complete, listing database\n",
      "Found 0 containers to add. Starting migration...\n",
      "Database migration complete!\n"
     ]
    }
   ],
   "source": [
    "import opentrons"
   ]
  },
  {
   "cell_type": "code",
   "execution_count": 2,
   "metadata": {},
   "outputs": [
    {
     "name": "stdout",
     "output_type": "stream",
     "text": [
      "Loading json containers...\n",
      "Json container file load complete, listing database\n",
      "Found 0 containers to add. Starting migration...\n",
      "Database migration complete!\n"
     ]
    },
    {
     "name": "stderr",
     "output_type": "stream",
     "text": [
      "C:\\Users\\lajamu\\.opentrons\\deck_calibration.json not found. Loading defaults\n",
      "C:\\Users\\lajamu\\.opentrons\\robot_settings.json not found. Loading defaults\n",
      "C:\\Users\\lajamu\\.opentrons\\deck_calibration.json not found. Loading defaults\n",
      "C:\\Users\\lajamu\\.opentrons\\robot_settings.json not found. Loading defaults\n",
      "Traceback (most recent call last):\n",
      "  File \"c:\\users\\lajamu\\appdata\\local\\continuum\\anaconda3\\lib\\site-packages\\opentrons\\protocol_api\\execute.py\", line 108, in _run_python\n",
      "    exec('run(context)', new_globs, new_locs)\n",
      "  File \"<string>\", line 1, in <module>\n",
      "  File \"make_glycerol_reformat.py\", line 33, in run\n",
      "    load_labware(0, source_plate)\n",
      "  File \"make_glycerol_reformat.py\", line 30, in load_labware\n",
      "    protocol.load_labware(plate, str(slot))\n",
      "  File \"c:\\users\\lajamu\\appdata\\local\\continuum\\anaconda3\\lib\\site-packages\\opentrons\\protocol_api\\util.py\", line 289, in _check_version_wrapper\n",
      "    return decorated_obj(*args, **kwargs)\n",
      "  File \"c:\\users\\lajamu\\appdata\\local\\continuum\\anaconda3\\lib\\site-packages\\opentrons\\protocol_api\\protocol_context.py\", line 345, in load_labware\n",
      "    labware_def, location, label)\n",
      "  File \"c:\\users\\lajamu\\appdata\\local\\continuum\\anaconda3\\lib\\site-packages\\opentrons\\protocol_api\\util.py\", line 289, in _check_version_wrapper\n",
      "    return decorated_obj(*args, **kwargs)\n",
      "  File \"c:\\users\\lajamu\\appdata\\local\\continuum\\anaconda3\\lib\\site-packages\\opentrons\\protocol_api\\protocol_context.py\", line 306, in load_labware_from_definition\n",
      "    self._deck_layout[location] = labware_obj\n",
      "  File \"c:\\users\\lajamu\\appdata\\local\\continuum\\anaconda3\\lib\\site-packages\\opentrons\\protocol_api\\geometry.py\", line 184, in __setitem__\n",
      "    raise ValueError(f'Deck location {key} already'\n",
      "ValueError: Deck location 2 already  has an item: Opentrons 96 Tip Rack 300 µL on 2\n",
      "\n",
      "During handling of the above exception, another exception occurred:\n",
      "\n",
      "Traceback (most recent call last):\n",
      "  File \"c:\\users\\lajamu\\appdata\\local\\continuum\\anaconda3\\lib\\runpy.py\", line 193, in _run_module_as_main\n",
      "    \"__main__\", mod_spec)\n",
      "  File \"c:\\users\\lajamu\\appdata\\local\\continuum\\anaconda3\\lib\\runpy.py\", line 85, in _run_code\n",
      "    exec(code, run_globals)\n",
      "  File \"C:\\Users\\lajamu\\AppData\\Local\\Continuum\\anaconda3\\Scripts\\opentrons_simulate.exe\\__main__.py\", line 9, in <module>\n",
      "  File \"c:\\users\\lajamu\\appdata\\local\\continuum\\anaconda3\\lib\\site-packages\\opentrons\\simulate.py\", line 492, in main\n",
      "    log_level=args.log_level)\n",
      "  File \"c:\\users\\lajamu\\appdata\\local\\continuum\\anaconda3\\lib\\site-packages\\opentrons\\simulate.py\", line 317, in simulate\n",
      "    execute.run_protocol(protocol, context)\n",
      "  File \"c:\\users\\lajamu\\appdata\\local\\continuum\\anaconda3\\lib\\site-packages\\opentrons\\protocol_api\\execute.py\", line 131, in run_protocol\n",
      "    _run_python(protocol, context)\n",
      "  File \"c:\\users\\lajamu\\appdata\\local\\continuum\\anaconda3\\lib\\site-packages\\opentrons\\protocol_api\\execute.py\", line 119, in _run_python\n",
      "    raise ExceptionInProtocolError(e, tb, str(e), frame.lineno)\n",
      "opentrons.protocol_api.execute.ExceptionInProtocolError: ValueError [line 30]: Deck location 2 already  has an item: Opentrons 96 Tip Rack 300 µL on 2\n"
     ]
    }
   ],
   "source": [
    "!opentrons_simulate make_glycerol_reformat.py\n"
   ]
  }
 ],
 "metadata": {
  "kernelspec": {
   "display_name": "Python 3",
   "language": "python",
   "name": "python3"
  },
  "language_info": {
   "codemirror_mode": {
    "name": "ipython",
    "version": 3
   },
   "file_extension": ".py",
   "mimetype": "text/x-python",
   "name": "python",
   "nbconvert_exporter": "python",
   "pygments_lexer": "ipython3",
   "version": "3.7.1"
  }
 },
 "nbformat": 4,
 "nbformat_minor": 4
}
